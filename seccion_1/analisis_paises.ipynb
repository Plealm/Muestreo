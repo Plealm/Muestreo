{
 "cells": [
  {
   "cell_type": "markdown",
   "id": "aeb5b7ff",
   "metadata": {},
   "source": [
    "# Calculo de Parametros en R\n",
    "\n",
    "### Autor: Pedro jose leal mesa"
   ]
  },
  {
   "cell_type": "code",
   "execution_count": 1,
   "id": "7025a7c3",
   "metadata": {
    "vscode": {
     "languageId": "r"
    }
   },
   "outputs": [
    {
     "name": "stderr",
     "output_type": "stream",
     "text": [
      "Warning message:\n",
      "\"package 'gapminder' was built under R version 4.4.3\"\n"
     ]
    }
   ],
   "source": [
    "# Cargar la librería\n",
    "library(gapminder)\n",
    "\n",
    "# Cargar los datos\n",
    "data(gapminder)"
   ]
  },
  {
   "cell_type": "code",
   "execution_count": 2,
   "id": "bdae0877",
   "metadata": {
    "vscode": {
     "languageId": "r"
    }
   },
   "outputs": [
    {
     "data": {
      "text/html": [
       "<table class=\"dataframe\">\n",
       "<caption>A tibble: 6 × 6</caption>\n",
       "<thead>\n",
       "\t<tr><th scope=col>country</th><th scope=col>continent</th><th scope=col>year</th><th scope=col>lifeExp</th><th scope=col>pop</th><th scope=col>gdpPercap</th></tr>\n",
       "\t<tr><th scope=col>&lt;fct&gt;</th><th scope=col>&lt;fct&gt;</th><th scope=col>&lt;int&gt;</th><th scope=col>&lt;dbl&gt;</th><th scope=col>&lt;int&gt;</th><th scope=col>&lt;dbl&gt;</th></tr>\n",
       "</thead>\n",
       "<tbody>\n",
       "\t<tr><td>Afghanistan</td><td>Asia</td><td>1952</td><td>28.801</td><td> 8425333</td><td>779.4453</td></tr>\n",
       "\t<tr><td>Afghanistan</td><td>Asia</td><td>1957</td><td>30.332</td><td> 9240934</td><td>820.8530</td></tr>\n",
       "\t<tr><td>Afghanistan</td><td>Asia</td><td>1962</td><td>31.997</td><td>10267083</td><td>853.1007</td></tr>\n",
       "\t<tr><td>Afghanistan</td><td>Asia</td><td>1967</td><td>34.020</td><td>11537966</td><td>836.1971</td></tr>\n",
       "\t<tr><td>Afghanistan</td><td>Asia</td><td>1972</td><td>36.088</td><td>13079460</td><td>739.9811</td></tr>\n",
       "\t<tr><td>Afghanistan</td><td>Asia</td><td>1977</td><td>38.438</td><td>14880372</td><td>786.1134</td></tr>\n",
       "</tbody>\n",
       "</table>\n"
      ],
      "text/latex": [
       "A tibble: 6 × 6\n",
       "\\begin{tabular}{llllll}\n",
       " country & continent & year & lifeExp & pop & gdpPercap\\\\\n",
       " <fct> & <fct> & <int> & <dbl> & <int> & <dbl>\\\\\n",
       "\\hline\n",
       "\t Afghanistan & Asia & 1952 & 28.801 &  8425333 & 779.4453\\\\\n",
       "\t Afghanistan & Asia & 1957 & 30.332 &  9240934 & 820.8530\\\\\n",
       "\t Afghanistan & Asia & 1962 & 31.997 & 10267083 & 853.1007\\\\\n",
       "\t Afghanistan & Asia & 1967 & 34.020 & 11537966 & 836.1971\\\\\n",
       "\t Afghanistan & Asia & 1972 & 36.088 & 13079460 & 739.9811\\\\\n",
       "\t Afghanistan & Asia & 1977 & 38.438 & 14880372 & 786.1134\\\\\n",
       "\\end{tabular}\n"
      ],
      "text/markdown": [
       "\n",
       "A tibble: 6 × 6\n",
       "\n",
       "| country &lt;fct&gt; | continent &lt;fct&gt; | year &lt;int&gt; | lifeExp &lt;dbl&gt; | pop &lt;int&gt; | gdpPercap &lt;dbl&gt; |\n",
       "|---|---|---|---|---|---|\n",
       "| Afghanistan | Asia | 1952 | 28.801 |  8425333 | 779.4453 |\n",
       "| Afghanistan | Asia | 1957 | 30.332 |  9240934 | 820.8530 |\n",
       "| Afghanistan | Asia | 1962 | 31.997 | 10267083 | 853.1007 |\n",
       "| Afghanistan | Asia | 1967 | 34.020 | 11537966 | 836.1971 |\n",
       "| Afghanistan | Asia | 1972 | 36.088 | 13079460 | 739.9811 |\n",
       "| Afghanistan | Asia | 1977 | 38.438 | 14880372 | 786.1134 |\n",
       "\n"
      ],
      "text/plain": [
       "  country     continent year lifeExp pop      gdpPercap\n",
       "1 Afghanistan Asia      1952 28.801   8425333 779.4453 \n",
       "2 Afghanistan Asia      1957 30.332   9240934 820.8530 \n",
       "3 Afghanistan Asia      1962 31.997  10267083 853.1007 \n",
       "4 Afghanistan Asia      1967 34.020  11537966 836.1971 \n",
       "5 Afghanistan Asia      1972 36.088  13079460 739.9811 \n",
       "6 Afghanistan Asia      1977 38.438  14880372 786.1134 "
      ]
     },
     "metadata": {},
     "output_type": "display_data"
    },
    {
     "data": {
      "text/html": [
       "<table class=\"dataframe\">\n",
       "<caption>A tibble: 6 × 6</caption>\n",
       "<thead>\n",
       "\t<tr><th scope=col>country</th><th scope=col>continent</th><th scope=col>year</th><th scope=col>lifeExp</th><th scope=col>pop</th><th scope=col>gdpPercap</th></tr>\n",
       "\t<tr><th scope=col>&lt;fct&gt;</th><th scope=col>&lt;fct&gt;</th><th scope=col>&lt;int&gt;</th><th scope=col>&lt;dbl&gt;</th><th scope=col>&lt;int&gt;</th><th scope=col>&lt;dbl&gt;</th></tr>\n",
       "</thead>\n",
       "<tbody>\n",
       "\t<tr><td>Zimbabwe</td><td>Africa</td><td>1982</td><td>60.363</td><td> 7636524</td><td>788.8550</td></tr>\n",
       "\t<tr><td>Zimbabwe</td><td>Africa</td><td>1987</td><td>62.351</td><td> 9216418</td><td>706.1573</td></tr>\n",
       "\t<tr><td>Zimbabwe</td><td>Africa</td><td>1992</td><td>60.377</td><td>10704340</td><td>693.4208</td></tr>\n",
       "\t<tr><td>Zimbabwe</td><td>Africa</td><td>1997</td><td>46.809</td><td>11404948</td><td>792.4500</td></tr>\n",
       "\t<tr><td>Zimbabwe</td><td>Africa</td><td>2002</td><td>39.989</td><td>11926563</td><td>672.0386</td></tr>\n",
       "\t<tr><td>Zimbabwe</td><td>Africa</td><td>2007</td><td>43.487</td><td>12311143</td><td>469.7093</td></tr>\n",
       "</tbody>\n",
       "</table>\n"
      ],
      "text/latex": [
       "A tibble: 6 × 6\n",
       "\\begin{tabular}{llllll}\n",
       " country & continent & year & lifeExp & pop & gdpPercap\\\\\n",
       " <fct> & <fct> & <int> & <dbl> & <int> & <dbl>\\\\\n",
       "\\hline\n",
       "\t Zimbabwe & Africa & 1982 & 60.363 &  7636524 & 788.8550\\\\\n",
       "\t Zimbabwe & Africa & 1987 & 62.351 &  9216418 & 706.1573\\\\\n",
       "\t Zimbabwe & Africa & 1992 & 60.377 & 10704340 & 693.4208\\\\\n",
       "\t Zimbabwe & Africa & 1997 & 46.809 & 11404948 & 792.4500\\\\\n",
       "\t Zimbabwe & Africa & 2002 & 39.989 & 11926563 & 672.0386\\\\\n",
       "\t Zimbabwe & Africa & 2007 & 43.487 & 12311143 & 469.7093\\\\\n",
       "\\end{tabular}\n"
      ],
      "text/markdown": [
       "\n",
       "A tibble: 6 × 6\n",
       "\n",
       "| country &lt;fct&gt; | continent &lt;fct&gt; | year &lt;int&gt; | lifeExp &lt;dbl&gt; | pop &lt;int&gt; | gdpPercap &lt;dbl&gt; |\n",
       "|---|---|---|---|---|---|\n",
       "| Zimbabwe | Africa | 1982 | 60.363 |  7636524 | 788.8550 |\n",
       "| Zimbabwe | Africa | 1987 | 62.351 |  9216418 | 706.1573 |\n",
       "| Zimbabwe | Africa | 1992 | 60.377 | 10704340 | 693.4208 |\n",
       "| Zimbabwe | Africa | 1997 | 46.809 | 11404948 | 792.4500 |\n",
       "| Zimbabwe | Africa | 2002 | 39.989 | 11926563 | 672.0386 |\n",
       "| Zimbabwe | Africa | 2007 | 43.487 | 12311143 | 469.7093 |\n",
       "\n"
      ],
      "text/plain": [
       "  country  continent year lifeExp pop      gdpPercap\n",
       "1 Zimbabwe Africa    1982 60.363   7636524 788.8550 \n",
       "2 Zimbabwe Africa    1987 62.351   9216418 706.1573 \n",
       "3 Zimbabwe Africa    1992 60.377  10704340 693.4208 \n",
       "4 Zimbabwe Africa    1997 46.809  11404948 792.4500 \n",
       "5 Zimbabwe Africa    2002 39.989  11926563 672.0386 \n",
       "6 Zimbabwe Africa    2007 43.487  12311143 469.7093 "
      ]
     },
     "metadata": {},
     "output_type": "display_data"
    }
   ],
   "source": [
    "# Ver las primeras filas de la base de datos\n",
    "head(gapminder)\n",
    "\n",
    "# Ver las últimas filas de la base de datos\n",
    "tail(gapminder)"
   ]
  },
  {
   "cell_type": "markdown",
   "id": "8103e2d8",
   "metadata": {},
   "source": [
    "- Por medio del comando `head` nos muestra las **primeras** 6 filas de la base correspondientes a Afghanistan que muestra una población baja y una preocupante esperanza de vida que aunque va en crecimiento hasta 1977 no ha superado el umbral de los 40 años.\n",
    "- Por medio del comando `tail` nos muestra las **ultimas** 6 filas de la base correspondientes a Zimbabwe que muestra una población baja (incluso menor que la de Afghanistan) y una preocupante esperanza de vida que muestra una caida muy grande en 1997 pasando de 60.3 años a 46.8 años, en 2002 otra caida a 39.9 años lo que hace preocupante esta población.\n"
   ]
  },
  {
   "cell_type": "code",
   "execution_count": 3,
   "id": "a1eba3f7",
   "metadata": {
    "vscode": {
     "languageId": "r"
    }
   },
   "outputs": [
    {
     "data": {
      "image/png": "[encoded data removed]",
      "text/plain": [
       "Plot with title \"Esperanza de Vida en Colombia\""
      ]
     },
     "metadata": {
      "image/png": {
       "height": 600,
       "width": 960
      }
     },
     "output_type": "display_data"
    }
   ],
   "source": [
    "# Configurar tamaño del gráfico (ancho, alto en pulgadas)\n",
    "options(repr.plot.width = 16, repr.plot.height = 10)\n",
    "\n",
    "par(bg = \"white\", \n",
    "    mar = c(5, 4, 4, 2) + 0.1, \n",
    "    cex.axis = 1.5, \n",
    "    cex.lab = 1.5, \n",
    "    cex.main = 2, \n",
    "    lwd = 2, \n",
    "    lty = 1)\n",
    "\n",
    "plot(lifeExp ~ year, gapminder, subset = country == \"Colombia\",\n",
    "     type = \"b\", \n",
    "     xlab = \"Año\", \n",
    "     ylab = \"Esperanza de Vida\",\n",
    "     col = \"blue\", \n",
    "     pch = 19, \n",
    "     main = \"Esperanza de Vida en Colombia\")\n"
   ]
  },
  {
   "cell_type": "markdown",
   "id": "629e6e74",
   "metadata": {},
   "source": [
    "La esperanza de vida en Colombia experimentó un crecimiento sostenido entre 1952 y 2007, pasando de 50.6 a 72.9 años, reflejando una mejora acumulada de 22.3 años en cinco décadas. El ritmo fue particularmente acelerado en las primeras etapas (1952-1967), con un aumento de casi 10 años, posiblemente vinculado a avances en infraestructura sanitaria y reducción de mortalidad infantil. A partir de los años 90, la tendencia se mantuvo positiva pero más moderada, alcanzando su pico en 2007, lo que sugiere una maduración de políticas públicas y estabilidad socioeconómica. "
   ]
  },
  {
   "cell_type": "code",
   "execution_count": 4,
   "id": "f9a4e343",
   "metadata": {
    "vscode": {
     "languageId": "r"
    }
   },
   "outputs": [
    {
     "data": {
      "text/html": [
       "<table class=\"dataframe\">\n",
       "<caption>A tibble: 6 × 6</caption>\n",
       "<thead>\n",
       "\t<tr><th scope=col>country</th><th scope=col>continent</th><th scope=col>year</th><th scope=col>lifeExp</th><th scope=col>pop</th><th scope=col>gdpPercap</th></tr>\n",
       "\t<tr><th scope=col>&lt;fct&gt;</th><th scope=col>&lt;fct&gt;</th><th scope=col>&lt;int&gt;</th><th scope=col>&lt;dbl&gt;</th><th scope=col>&lt;int&gt;</th><th scope=col>&lt;dbl&gt;</th></tr>\n",
       "</thead>\n",
       "<tbody>\n",
       "\t<tr><td>Afghanistan</td><td>Asia    </td><td>2007</td><td>43.828</td><td>31889923</td><td>  974.5803</td></tr>\n",
       "\t<tr><td>Albania    </td><td>Europe  </td><td>2007</td><td>76.423</td><td> 3600523</td><td> 5937.0295</td></tr>\n",
       "\t<tr><td>Algeria    </td><td>Africa  </td><td>2007</td><td>72.301</td><td>33333216</td><td> 6223.3675</td></tr>\n",
       "\t<tr><td>Angola     </td><td>Africa  </td><td>2007</td><td>42.731</td><td>12420476</td><td> 4797.2313</td></tr>\n",
       "\t<tr><td>Argentina  </td><td>Americas</td><td>2007</td><td>75.320</td><td>40301927</td><td>12779.3796</td></tr>\n",
       "\t<tr><td>Australia  </td><td>Oceania </td><td>2007</td><td>81.235</td><td>20434176</td><td>34435.3674</td></tr>\n",
       "</tbody>\n",
       "</table>\n"
      ],
      "text/latex": [
       "A tibble: 6 × 6\n",
       "\\begin{tabular}{llllll}\n",
       " country & continent & year & lifeExp & pop & gdpPercap\\\\\n",
       " <fct> & <fct> & <int> & <dbl> & <int> & <dbl>\\\\\n",
       "\\hline\n",
       "\t Afghanistan & Asia     & 2007 & 43.828 & 31889923 &   974.5803\\\\\n",
       "\t Albania     & Europe   & 2007 & 76.423 &  3600523 &  5937.0295\\\\\n",
       "\t Algeria     & Africa   & 2007 & 72.301 & 33333216 &  6223.3675\\\\\n",
       "\t Angola      & Africa   & 2007 & 42.731 & 12420476 &  4797.2313\\\\\n",
       "\t Argentina   & Americas & 2007 & 75.320 & 40301927 & 12779.3796\\\\\n",
       "\t Australia   & Oceania  & 2007 & 81.235 & 20434176 & 34435.3674\\\\\n",
       "\\end{tabular}\n"
      ],
      "text/markdown": [
       "\n",
       "A tibble: 6 × 6\n",
       "\n",
       "| country &lt;fct&gt; | continent &lt;fct&gt; | year &lt;int&gt; | lifeExp &lt;dbl&gt; | pop &lt;int&gt; | gdpPercap &lt;dbl&gt; |\n",
       "|---|---|---|---|---|---|\n",
       "| Afghanistan | Asia     | 2007 | 43.828 | 31889923 |   974.5803 |\n",
       "| Albania     | Europe   | 2007 | 76.423 |  3600523 |  5937.0295 |\n",
       "| Algeria     | Africa   | 2007 | 72.301 | 33333216 |  6223.3675 |\n",
       "| Angola      | Africa   | 2007 | 42.731 | 12420476 |  4797.2313 |\n",
       "| Argentina   | Americas | 2007 | 75.320 | 40301927 | 12779.3796 |\n",
       "| Australia   | Oceania  | 2007 | 81.235 | 20434176 | 34435.3674 |\n",
       "\n"
      ],
      "text/plain": [
       "  country     continent year lifeExp pop      gdpPercap \n",
       "1 Afghanistan Asia      2007 43.828  31889923   974.5803\n",
       "2 Albania     Europe    2007 76.423   3600523  5937.0295\n",
       "3 Algeria     Africa    2007 72.301  33333216  6223.3675\n",
       "4 Angola      Africa    2007 42.731  12420476  4797.2313\n",
       "5 Argentina   Americas  2007 75.320  40301927 12779.3796\n",
       "6 Australia   Oceania   2007 81.235  20434176 34435.3674"
      ]
     },
     "metadata": {},
     "output_type": "display_data"
    }
   ],
   "source": [
    "# Filtrar los datos para el año 2007\n",
    "gap <- gapminder[gapminder$year == 2007, ]\n",
    "\n",
    "# Ver las primeras filas de la base filtrada\n",
    "head(gap)"
   ]
  },
  {
   "cell_type": "markdown",
   "id": "b574cc7a",
   "metadata": {
    "vscode": {
     "languageId": "r"
    }
   },
   "source": [
    "Al interesarnos hacer una muestra la dependencia temporal no nos interesa, dado que lo que queremos es observar un instante en el tiempo como si fuera una **foto** y sobre esta crear nuestro marco muestral, por ello solo se tomaron los datos con año 2007."
   ]
  },
  {
   "cell_type": "code",
   "execution_count": 5,
   "id": "45a9b0e9",
   "metadata": {
    "vscode": {
     "languageId": "r"
    }
   },
   "outputs": [
    {
     "data": {
      "text/html": [
       "<style>\n",
       ".list-inline {list-style: none; margin:0; padding: 0}\n",
       ".list-inline>li {display: inline-block}\n",
       ".list-inline>li:not(:last-child)::after {content: \"\\00b7\"; padding: 0 .5ex}\n",
       "</style>\n",
       "<ol class=list-inline><li>142</li><li>6</li></ol>\n"
      ],
      "text/latex": [
       "\\begin{enumerate*}\n",
       "\\item 142\n",
       "\\item 6\n",
       "\\end{enumerate*}\n"
      ],
      "text/markdown": [
       "1. 142\n",
       "2. 6\n",
       "\n",
       "\n"
      ],
      "text/plain": [
       "[1] 142   6"
      ]
     },
     "metadata": {},
     "output_type": "display_data"
    }
   ],
   "source": [
    "dim(gap)"
   ]
  },
  {
   "cell_type": "markdown",
   "id": "8e49f40a",
   "metadata": {
    "vscode": {
     "languageId": "r"
    }
   },
   "source": [
    "lo que indica que la base tiene 142 filas (individuos o países) y 6 columnas (variables)."
   ]
  },
  {
   "cell_type": "code",
   "execution_count": 6,
   "id": "3d9c2250",
   "metadata": {
    "vscode": {
     "languageId": "r"
    }
   },
   "outputs": [
    {
     "data": {
      "text/html": [
       "<table class=\"dataframe\">\n",
       "<caption>A tibble: 6 × 7</caption>\n",
       "<thead>\n",
       "\t<tr><th scope=col>country</th><th scope=col>continent</th><th scope=col>year</th><th scope=col>lifeExp</th><th scope=col>pop</th><th scope=col>gdpPercap</th><th scope=col>ingreso</th></tr>\n",
       "\t<tr><th scope=col>&lt;fct&gt;</th><th scope=col>&lt;fct&gt;</th><th scope=col>&lt;int&gt;</th><th scope=col>&lt;dbl&gt;</th><th scope=col>&lt;int&gt;</th><th scope=col>&lt;dbl&gt;</th><th scope=col>&lt;fct&gt;</th></tr>\n",
       "</thead>\n",
       "<tbody>\n",
       "\t<tr><td>Afghanistan</td><td>Asia    </td><td>2007</td><td>43.828</td><td>31889923</td><td>  974.5803</td><td>Bajo      </td></tr>\n",
       "\t<tr><td>Albania    </td><td>Europe  </td><td>2007</td><td>76.423</td><td> 3600523</td><td> 5937.0295</td><td>Medio Alto</td></tr>\n",
       "\t<tr><td>Algeria    </td><td>Africa  </td><td>2007</td><td>72.301</td><td>33333216</td><td> 6223.3675</td><td>Medio Alto</td></tr>\n",
       "\t<tr><td>Angola     </td><td>Africa  </td><td>2007</td><td>42.731</td><td>12420476</td><td> 4797.2313</td><td>Medio Alto</td></tr>\n",
       "\t<tr><td>Argentina  </td><td>Americas</td><td>2007</td><td>75.320</td><td>40301927</td><td>12779.3796</td><td>Alto      </td></tr>\n",
       "\t<tr><td>Australia  </td><td>Oceania </td><td>2007</td><td>81.235</td><td>20434176</td><td>34435.3674</td><td>Alto      </td></tr>\n",
       "</tbody>\n",
       "</table>\n"
      ],
      "text/latex": [
       "A tibble: 6 × 7\n",
       "\\begin{tabular}{lllllll}\n",
       " country & continent & year & lifeExp & pop & gdpPercap & ingreso\\\\\n",
       " <fct> & <fct> & <int> & <dbl> & <int> & <dbl> & <fct>\\\\\n",
       "\\hline\n",
       "\t Afghanistan & Asia     & 2007 & 43.828 & 31889923 &   974.5803 & Bajo      \\\\\n",
       "\t Albania     & Europe   & 2007 & 76.423 &  3600523 &  5937.0295 & Medio Alto\\\\\n",
       "\t Algeria     & Africa   & 2007 & 72.301 & 33333216 &  6223.3675 & Medio Alto\\\\\n",
       "\t Angola      & Africa   & 2007 & 42.731 & 12420476 &  4797.2313 & Medio Alto\\\\\n",
       "\t Argentina   & Americas & 2007 & 75.320 & 40301927 & 12779.3796 & Alto      \\\\\n",
       "\t Australia   & Oceania  & 2007 & 81.235 & 20434176 & 34435.3674 & Alto      \\\\\n",
       "\\end{tabular}\n"
      ],
      "text/markdown": [
       "\n",
       "A tibble: 6 × 7\n",
       "\n",
       "| country &lt;fct&gt; | continent &lt;fct&gt; | year &lt;int&gt; | lifeExp &lt;dbl&gt; | pop &lt;int&gt; | gdpPercap &lt;dbl&gt; | ingreso &lt;fct&gt; |\n",
       "|---|---|---|---|---|---|---|\n",
       "| Afghanistan | Asia     | 2007 | 43.828 | 31889923 |   974.5803 | Bajo       |\n",
       "| Albania     | Europe   | 2007 | 76.423 |  3600523 |  5937.0295 | Medio Alto |\n",
       "| Algeria     | Africa   | 2007 | 72.301 | 33333216 |  6223.3675 | Medio Alto |\n",
       "| Angola      | Africa   | 2007 | 42.731 | 12420476 |  4797.2313 | Medio Alto |\n",
       "| Argentina   | Americas | 2007 | 75.320 | 40301927 | 12779.3796 | Alto       |\n",
       "| Australia   | Oceania  | 2007 | 81.235 | 20434176 | 34435.3674 | Alto       |\n",
       "\n"
      ],
      "text/plain": [
       "  country     continent year lifeExp pop      gdpPercap  ingreso   \n",
       "1 Afghanistan Asia      2007 43.828  31889923   974.5803 Bajo      \n",
       "2 Albania     Europe    2007 76.423   3600523  5937.0295 Medio Alto\n",
       "3 Algeria     Africa    2007 72.301  33333216  6223.3675 Medio Alto\n",
       "4 Angola      Africa    2007 42.731  12420476  4797.2313 Medio Alto\n",
       "5 Argentina   Americas  2007 75.320  40301927 12779.3796 Alto      \n",
       "6 Australia   Oceania   2007 81.235  20434176 34435.3674 Alto      "
      ]
     },
     "metadata": {},
     "output_type": "display_data"
    }
   ],
   "source": [
    "# Asegurarse de que la base de datos esté accesible\n",
    "attach(gap)\n",
    "\n",
    "# Crear la variable ingreso basada en los umbrales de la ONU\n",
    "gap$ingreso <- as.factor(ifelse(gdpPercap < 1035, 'Bajo',\n",
    "                         ifelse(gdpPercap < 4085, 'Medio Bajo',\n",
    "                         ifelse(gdpPercap < 12615, 'Medio Alto', 'Alto'))))\n",
    "\n",
    "# Ver las primeras filas con la nueva variable\n",
    "head(gap)"
   ]
  },
  {
   "cell_type": "markdown",
   "id": "297b8956",
   "metadata": {
    "vscode": {
     "languageId": "r"
    }
   },
   "source": [
    "Se crea la variable ingreso de naturaleza cualitativa clasificando por el PIB per capita de cada pais segun los umbrales de la ONU para tener un analisis con posibilidades de segmentaciones y mayor profundidad."
   ]
  },
  {
   "cell_type": "code",
   "execution_count": 7,
   "id": "97320e8a",
   "metadata": {
    "vscode": {
     "languageId": "r"
    }
   },
   "outputs": [
    {
     "data": {
      "text/plain": [
       "        country       continent       year         lifeExp     \n",
       " Afghanistan:  1   Africa  :52   Min.   :2007   Min.   :39.61  \n",
       " Albania    :  1   Americas:25   1st Qu.:2007   1st Qu.:57.16  \n",
       " Algeria    :  1   Asia    :33   Median :2007   Median :71.94  \n",
       " Angola     :  1   Europe  :30   Mean   :2007   Mean   :67.01  \n",
       " Argentina  :  1   Oceania : 2   3rd Qu.:2007   3rd Qu.:76.41  \n",
       " Australia  :  1                 Max.   :2007   Max.   :82.60  \n",
       " (Other)    :136                                               \n",
       "      pop              gdpPercap             ingreso  \n",
       " Min.   :1.996e+05   Min.   :  277.6   Alto      :42  \n",
       " 1st Qu.:4.508e+06   1st Qu.: 1624.8   Bajo      :20  \n",
       " Median :1.052e+07   Median : 6124.4   Medio Alto:42  \n",
       " Mean   :4.402e+07   Mean   :11680.1   Medio Bajo:38  \n",
       " 3rd Qu.:3.121e+07   3rd Qu.:18008.8                  \n",
       " Max.   :1.319e+09   Max.   :49357.2                  \n",
       "                                                      "
      ]
     },
     "metadata": {},
     "output_type": "display_data"
    }
   ],
   "source": [
    "# Resumen general de la base de datos\n",
    "summary(gap)"
   ]
  },
  {
   "cell_type": "markdown",
   "id": "dfbd0c88",
   "metadata": {
    "vscode": {
     "languageId": "r"
    }
   },
   "source": [
    "**Análisis del resumen de la base de datos (año 2007):**  \n",
    "La esperanza de vida (*lifeExp*) muestra *disparidades globales*, con un **mínimo de 39.6 años** (países en crisis) y un **máximo de 82.6 años** (sociedades avanzadas), reflejando *desigualdades en acceso a salud*. La población (*pop*) abarca desde **199,600 habitantes** hasta **1,319 millones**, destacando *contrastes demográficos extremos*.  \n",
    "\n",
    "- *Distribución por continente*: **África** lidera en registros (52), seguida de **Asia** (33) y **Europa** (30), mientras **Oceanía** solo tiene 2.  \n",
    "- *Economía*: El **PIB per cápita** varía de **$277** (umbral de pobreza) a **$49,357** (economías desarrolladas), con **61% de países en categorías de ingreso medio** (*Alto/Medio Alto*).  \n",
    "\n",
    "La **correlación entre PIB y esperanza de vida** se insinúa: países con *ingresos altos* tienden a mayor longevidad, pero *factores regionales* (ej. conflictos en África) alteran esta tendencia.  "
   ]
  },
  {
   "cell_type": "code",
   "execution_count": 8,
   "id": "14f23958",
   "metadata": {
    "vscode": {
     "languageId": "r"
    }
   },
   "outputs": [
    {
     "name": "stdout",
     "output_type": "stream",
     "text": [
      "[1] \"Promedio de esperanza de vida: 67.0074225352113\"\n",
      "[1] \"Promedio de población: 44021219.5704225\"\n",
      "[1] \"Promedio de PIB per cápita: 11680.0718198782\"\n"
     ]
    }
   ],
   "source": [
    "# Definir una función para calcular el promedio\n",
    "promedio <- function(x) {\n",
    "  sum(x) / length(x)\n",
    "}\n",
    "\n",
    "# Calcular el promedio de lifeExp\n",
    "promedio_lifeExp <- promedio(gap$lifeExp)\n",
    "print(paste(\"Promedio de esperanza de vida:\", promedio_lifeExp))\n",
    "\n",
    "# Calcular el promedio de pop\n",
    "promedio_pop <- promedio(gap$pop)\n",
    "print(paste(\"Promedio de población:\", promedio_pop))\n",
    "\n",
    "# Calcular el promedio de gdpPercap\n",
    "promedio_gdpPercap <- promedio(gap$gdpPercap)\n",
    "print(paste(\"Promedio de PIB per cápita:\", promedio_gdpPercap))"
   ]
  },
  {
   "cell_type": "markdown",
   "id": "75c9ba8f",
   "metadata": {
    "vscode": {
     "languageId": "r"
    }
   },
   "source": [
    "Aunque summary nos permite ver el promedio de las variables, es posible crearlo de forma manual."
   ]
  },
  {
   "cell_type": "code",
   "execution_count": 9,
   "id": "1d765b47",
   "metadata": {
    "vscode": {
     "languageId": "r"
    }
   },
   "outputs": [
    {
     "name": "stdout",
     "output_type": "stream",
     "text": [
      "[1] \"PIB per cápita mundial: 9295.99\"\n"
     ]
    }
   ],
   "source": [
    "# Calcular el PIB total\n",
    "gap$gdpTotal <- gap$gdpPercap * gap$pop\n",
    "\n",
    "# Calcular el PIB per cápita mundial\n",
    "pib_per_capita_mundial <- sum(gap$gdpTotal) / sum(gap$pop)\n",
    "print(paste(\"PIB per cápita mundial:\", round(pib_per_capita_mundial, 2)))"
   ]
  },
  {
   "cell_type": "markdown",
   "id": "cb5978da",
   "metadata": {
    "vscode": {
     "languageId": "r"
    }
   },
   "source": [
    "El cálculo **PIB per cápita global ponderado** (*sum(gdpTotal)/sum(pop)*) arroja **$9,295.99**, reflejando un promedio *ajustado por población* y es un ejemplo de una **razón**"
   ]
  },
  {
   "cell_type": "code",
   "execution_count": 10,
   "id": "8274e026",
   "metadata": {
    "vscode": {
     "languageId": "r"
    }
   },
   "outputs": [
    {
     "name": "stdout",
     "output_type": "stream",
     "text": [
      "[1] \"Media de esperanza de vida: 67.01\"\n",
      "[1] \"Tamaño de la población (N): 142\"\n",
      "[1] \"Percentiles 25%, 50%, 75% de esperanza de vida:\"\n",
      "     25%      50%      75% \n",
      "57.16025 71.93550 76.41325 \n",
      "[1] \"Mínimo de esperanza de vida: 39.613\"\n",
      "[1] \"Máximo de esperanza de vida: 82.603\"\n"
     ]
    }
   ],
   "source": [
    "# Calcular la media de lifeExp\n",
    "mean_lifeExp <- mean(gap$lifeExp)\n",
    "print(paste(\"Media de esperanza de vida:\", round(mean_lifeExp, 2)))\n",
    "\n",
    "# Calcular el tamaño de la población (número de países)\n",
    "N <- length(gap$lifeExp)\n",
    "print(paste(\"Tamaño de la población (N):\", N))\n",
    "\n",
    "# Calcular percentiles de lifeExp\n",
    "quantiles_lifeExp <- quantile(gap$lifeExp, c(0.25, 0.5, 0.75))\n",
    "print(\"Percentiles 25%, 50%, 75% de esperanza de vida:\")\n",
    "print(quantiles_lifeExp)\n",
    "\n",
    "# Calcular mínimo y máximo de lifeExp\n",
    "min_lifeExp <- min(gap$lifeExp)\n",
    "max_lifeExp <- max(gap$lifeExp)\n",
    "print(paste(\"Mínimo de esperanza de vida:\", min_lifeExp))\n",
    "print(paste(\"Máximo de esperanza de vida:\", max_lifeExp))"
   ]
  },
  {
   "cell_type": "markdown",
   "id": "ad292b00",
   "metadata": {},
   "source": [
    "Se puede encontrar de mnaera manual y con funciones realtivamente sencillas la misma información dada por `summary`"
   ]
  },
  {
   "cell_type": "code",
   "execution_count": 11,
   "id": "f991c887",
   "metadata": {
    "vscode": {
     "languageId": "r"
    }
   },
   "outputs": [
    {
     "data": {
      "text/plain": [
       "          \n",
       "           Alto Bajo Medio Alto Medio Bajo\n",
       "  Africa      1   18         12         21\n",
       "  Americas    6    0         15          4\n",
       "  Asia       10    2          8         13\n",
       "  Europe     23    0          7          0\n",
       "  Oceania     2    0          0          0"
      ]
     },
     "metadata": {},
     "output_type": "display_data"
    }
   ],
   "source": [
    "table(gap$continent, gap$ingreso)"
   ]
  },
  {
   "cell_type": "markdown",
   "id": "f09f9613",
   "metadata": {
    "vscode": {
     "languageId": "r"
    }
   },
   "source": [
    "**Europa** domina claramente en países de *ingreso **Alto*** (23 de 30), mientras **África** concentra el 79% de sus naciones en categorías **Bajas/Medio Bajas** (39 de 52), evidenciando una *brecha económica histórica*. **Asia** muestra *heterogeneidad*: 10 países **Altos** (ej. Japón, Corea) vs. 13 en **Medio Bajo** (ej. India, Pakistán). Las **Américas** destacan por ausencia de países **Bajos**, con 15 en **Medio Alto** (México, Brasil) y 6 **Altos** (EE.UU., Canadá). Oceanía, aunque mínima en datos, tiene sus 2 países (Australia/NZ) clasificados como **Altos**, reforzando su perfil desarrollado.  "
   ]
  },
  {
   "cell_type": "code",
   "execution_count": 12,
   "id": "6447b044",
   "metadata": {
    "vscode": {
     "languageId": "r"
    }
   },
   "outputs": [
    {
     "data": {
      "text/html": [
       "<style>\n",
       ".dl-inline {width: auto; margin:0; padding: 0}\n",
       ".dl-inline>dt, .dl-inline>dd {float: none; width: auto; display: inline-block}\n",
       ".dl-inline>dt::after {content: \":\\0020\"; padding-right: .5ex}\n",
       ".dl-inline>dt:not(:first-of-type) {padding-left: .5ex}\n",
       "</style><dl class=dl-inline><dt>Africa</dt><dd>54.8060384615385</dd><dt>Americas</dt><dd>73.60812</dd><dt>Asia</dt><dd>70.7284848484849</dd><dt>Europe</dt><dd>77.6486</dd><dt>Oceania</dt><dd>80.7195</dd></dl>\n"
      ],
      "text/latex": [
       "\\begin{description*}\n",
       "\\item[Africa] 54.8060384615385\n",
       "\\item[Americas] 73.60812\n",
       "\\item[Asia] 70.7284848484849\n",
       "\\item[Europe] 77.6486\n",
       "\\item[Oceania] 80.7195\n",
       "\\end{description*}\n"
      ],
      "text/markdown": [
       "Africa\n",
       ":   54.8060384615385Americas\n",
       ":   73.60812Asia\n",
       ":   70.7284848484849Europe\n",
       ":   77.6486Oceania\n",
       ":   80.7195\n",
       "\n"
      ],
      "text/plain": [
       "  Africa Americas     Asia   Europe  Oceania \n",
       "54.80604 73.60812 70.72848 77.64860 80.71950 "
      ]
     },
     "metadata": {},
     "output_type": "display_data"
    }
   ],
   "source": [
    "tapply(lifeExp,continent,promedio)"
   ]
  },
  {
   "cell_type": "code",
   "execution_count": 15,
   "id": "688b1a7d",
   "metadata": {
    "vscode": {
     "languageId": "r"
    }
   },
   "outputs": [
    {
     "data": {
      "text/plain": [
       "             gap$ingreso\n",
       "gap$continent     Alto     Bajo Medio Alto Medio Bajo\n",
       "     Africa     56.735  910.571    727.653   1154.955\n",
       "     Americas  461.333    0.000   1109.303    269.567\n",
       "     Asia      784.191  105.897    566.998    876.954\n",
       "     Europe   1812.380    0.000    517.078      0.000\n",
       "     Oceania   161.439    0.000      0.000      0.000"
      ]
     },
     "metadata": {},
     "output_type": "display_data"
    }
   ],
   "source": [
    "xtabs(lifeExp~gap$continent+gap$ingreso)"
   ]
  },
  {
   "cell_type": "code",
   "execution_count": 18,
   "id": "f5938499",
   "metadata": {
    "vscode": {
     "languageId": "r"
    }
   },
   "outputs": [
    {
     "data": {
      "text/plain": [
       "          gap$ingreso\n",
       "continent      Alto     Bajo Medio Alto Medio Bajo\n",
       "  Africa   56.73500 50.58728   60.63775   54.99786\n",
       "  Americas 76.88883            73.95353   67.39175\n",
       "  Asia     78.41910 52.94850   70.87475   67.45800\n",
       "  Europe   78.79913            73.86829           \n",
       "  Oceania  80.71950                               "
      ]
     },
     "metadata": {},
     "output_type": "display_data"
    }
   ],
   "source": [
    "xtabs(lifeExp~continent+gap$ingreso)/table(continent,gap$ingreso)"
   ]
  },
  {
   "cell_type": "markdown",
   "id": "4488fa2a",
   "metadata": {},
   "source": [
    "- **Europa y Oceanía** lideran en esperanza de vida para ingresos *Altos* (~78.8 y 80.7 años), reflejando sistemas de salud avanzados.  \n",
    "- **África** muestra las cifras más bajas, incluso en su categoría *Medio Alto* (60.6 años), evidenciando desafíos estructurales.  \n",
    "- **Américas y Asia** presentan *contrastes*: países de ingreso *Alto* superan los 76 años, mientras los de *Bajo* (ej. algunos asiáticos) caen a ~53 años.  \n",
    "- **Celdas vacías** (ej. `Bajo` en Américas) confirman ausencia de países en esas categorías, validando datos previos.  \n",
    "\n",
    "Este análisis revela que **el nivel de ingreso no actúa en aislamiento**: factores regionales (ej. conflictos en África, estabilidad en Europa) modulan su impacto en la longevidad."
   ]
  },
  {
   "cell_type": "code",
   "execution_count": 22,
   "id": "c7b49c4c",
   "metadata": {
    "vscode": {
     "languageId": "r"
    }
   },
   "outputs": [],
   "source": [
    "Datos07=data.frame(lifeExp,pop,gdpPercap)"
   ]
  },
  {
   "cell_type": "code",
   "execution_count": 23,
   "id": "8852b6e3",
   "metadata": {
    "vscode": {
     "languageId": "r"
    }
   },
   "outputs": [
    {
     "data": {
      "text/html": [
       "<table class=\"dataframe\">\n",
       "<caption>A matrix: 3 × 3 of type dbl</caption>\n",
       "<thead>\n",
       "\t<tr><th></th><th scope=col>lifeExp</th><th scope=col>pop</th><th scope=col>gdpPercap</th></tr>\n",
       "</thead>\n",
       "<tbody>\n",
       "\t<tr><th scope=row>lifeExp</th><td>1.457578e+02</td><td> 8.475088e+07</td><td>       105368</td></tr>\n",
       "\t<tr><th scope=row>pop</th><td>8.475088e+07</td><td> 2.179208e+16</td><td>-105694667829</td></tr>\n",
       "\t<tr><th scope=row>gdpPercap</th><td>1.053680e+05</td><td>-1.056947e+11</td><td>    165377988</td></tr>\n",
       "</tbody>\n",
       "</table>\n"
      ],
      "text/latex": [
       "A matrix: 3 × 3 of type dbl\n",
       "\\begin{tabular}{r|lll}\n",
       "  & lifeExp & pop & gdpPercap\\\\\n",
       "\\hline\n",
       "\tlifeExp & 1.457578e+02 &  8.475088e+07 &        105368\\\\\n",
       "\tpop & 8.475088e+07 &  2.179208e+16 & -105694667829\\\\\n",
       "\tgdpPercap & 1.053680e+05 & -1.056947e+11 &     165377988\\\\\n",
       "\\end{tabular}\n"
      ],
      "text/markdown": [
       "\n",
       "A matrix: 3 × 3 of type dbl\n",
       "\n",
       "| <!--/--> | lifeExp | pop | gdpPercap |\n",
       "|---|---|---|---|\n",
       "| lifeExp | 1.457578e+02 |  8.475088e+07 |        105368 |\n",
       "| pop | 8.475088e+07 |  2.179208e+16 | -105694667829 |\n",
       "| gdpPercap | 1.053680e+05 | -1.056947e+11 |     165377988 |\n",
       "\n"
      ],
      "text/plain": [
       "          lifeExp      pop           gdpPercap    \n",
       "lifeExp   1.457578e+02  8.475088e+07        105368\n",
       "pop       8.475088e+07  2.179208e+16 -105694667829\n",
       "gdpPercap 1.053680e+05 -1.056947e+11     165377988"
      ]
     },
     "metadata": {},
     "output_type": "display_data"
    }
   ],
   "source": [
    "cov(Datos07)"
   ]
  },
  {
   "cell_type": "code",
   "execution_count": 24,
   "id": "04830b7f",
   "metadata": {
    "vscode": {
     "languageId": "r"
    }
   },
   "outputs": [
    {
     "data": {
      "text/html": [
       "<table class=\"dataframe\">\n",
       "<caption>A matrix: 3 × 3 of type dbl</caption>\n",
       "<thead>\n",
       "\t<tr><th></th><th scope=col>lifeExp</th><th scope=col>pop</th><th scope=col>gdpPercap</th></tr>\n",
       "</thead>\n",
       "<tbody>\n",
       "\t<tr><th scope=row>lifeExp</th><td>1.00000000</td><td> 0.04755312</td><td> 0.6786624</td></tr>\n",
       "\t<tr><th scope=row>pop</th><td>0.04755312</td><td> 1.00000000</td><td>-0.0556756</td></tr>\n",
       "\t<tr><th scope=row>gdpPercap</th><td>0.67866240</td><td>-0.05567560</td><td> 1.0000000</td></tr>\n",
       "</tbody>\n",
       "</table>\n"
      ],
      "text/latex": [
       "A matrix: 3 × 3 of type dbl\n",
       "\\begin{tabular}{r|lll}\n",
       "  & lifeExp & pop & gdpPercap\\\\\n",
       "\\hline\n",
       "\tlifeExp & 1.00000000 &  0.04755312 &  0.6786624\\\\\n",
       "\tpop & 0.04755312 &  1.00000000 & -0.0556756\\\\\n",
       "\tgdpPercap & 0.67866240 & -0.05567560 &  1.0000000\\\\\n",
       "\\end{tabular}\n"
      ],
      "text/markdown": [
       "\n",
       "A matrix: 3 × 3 of type dbl\n",
       "\n",
       "| <!--/--> | lifeExp | pop | gdpPercap |\n",
       "|---|---|---|---|\n",
       "| lifeExp | 1.00000000 |  0.04755312 |  0.6786624 |\n",
       "| pop | 0.04755312 |  1.00000000 | -0.0556756 |\n",
       "| gdpPercap | 0.67866240 | -0.05567560 |  1.0000000 |\n",
       "\n"
      ],
      "text/plain": [
       "          lifeExp    pop         gdpPercap \n",
       "lifeExp   1.00000000  0.04755312  0.6786624\n",
       "pop       0.04755312  1.00000000 -0.0556756\n",
       "gdpPercap 0.67866240 -0.05567560  1.0000000"
      ]
     },
     "metadata": {},
     "output_type": "display_data"
    }
   ],
   "source": [
    "cor(Datos07)"
   ]
  },
  {
   "cell_type": "code",
   "execution_count": 26,
   "id": "6949df45",
   "metadata": {
    "vscode": {
     "languageId": "r"
    }
   },
   "outputs": [
    {
     "name": "stderr",
     "output_type": "stream",
     "text": [
      "Warning message:\n",
      "\"package 'GGally' was built under R version 4.4.3\"\n",
      "Cargando paquete requerido: ggplot2\n",
      "\n",
      "Registered S3 method overwritten by 'GGally':\n",
      "  method from   \n",
      "  +.gg   ggplot2\n",
      "\n"
     ]
    },
    {
     "data": {
      "image/png": "[encoded data removed]",
      "text/plain": [
       "plot without title"
      ]
     },
     "metadata": {
      "image/png": {
       "height": 600,
       "width": 960
      }
     },
     "output_type": "display_data"
    }
   ],
   "source": [
    "library(GGally)\n",
    "\n",
    "ggpairs(Datos07)"
   ]
  },
  {
   "cell_type": "markdown",
   "id": "1df5e52e",
   "metadata": {},
   "source": [
    "- Se observa que la **esperanza de vida** tiene una cola pesada a izquierda indicando que son muy pocos los paises que tienen esperanza de vidas bajas mientras el resto se acumula en la parte superior\n",
    "\n",
    "- la **esperanza de vida** y el **PIB per capita** muestra una correlación considerable lo que tiene sentido dado que a mayor ingreso tiene un pais por persona, se espera que haya mejor ayuda medica y social \n",
    "\n",
    "- Como era de esperarse las distribuciones de **poblacion** y **PIB per capita** poseen colas pesadas a la derecha. "
   ]
  },
  {
   "cell_type": "code",
   "execution_count": 27,
   "id": "1326e999",
   "metadata": {
    "vscode": {
     "languageId": "r"
    }
   },
   "outputs": [
    {
     "data": {
      "text/plain": [
       "\n",
       "Call:\n",
       "glm(formula = lifeExp ~ continent + gdpPercap)\n",
       "\n",
       "Coefficients:\n",
       "                   Estimate Std. Error t value Pr(>|t|)    \n",
       "(Intercept)       5.374e+01  9.284e-01  57.881  < 2e-16 ***\n",
       "continentAmericas 1.606e+01  1.662e+00   9.663  < 2e-16 ***\n",
       "continentAsia     1.267e+01  1.557e+00   8.137 2.27e-13 ***\n",
       "continentEurope   1.523e+01  1.956e+00   7.786 1.57e-12 ***\n",
       "continentOceania  1.665e+01  4.974e+00   3.348  0.00105 ** \n",
       "gdpPercap         3.466e-04  5.674e-05   6.109 9.89e-09 ***\n",
       "---\n",
       "Signif. codes:  0 '***' 0.001 '**' 0.01 '*' 0.05 '.' 0.1 ' ' 1\n",
       "\n",
       "(Dispersion parameter for gaussian family taken to be 43.22029)\n",
       "\n",
       "    Null deviance: 20552  on 141  degrees of freedom\n",
       "Residual deviance:  5878  on 136  degrees of freedom\n",
       "AIC: 945.66\n",
       "\n",
       "Number of Fisher Scoring iterations: 2\n"
      ]
     },
     "metadata": {},
     "output_type": "display_data"
    }
   ],
   "source": [
    "summary(glm(lifeExp~continent+gdpPercap))"
   ]
  },
  {
   "cell_type": "markdown",
   "id": "66a6f3b1",
   "metadata": {},
   "source": [
    "**Interpretación del modelo de regresión lineal (GLM) para esperanza de vida:**  \n",
    "\n",
    "El modelo predice `lifeExp` usando *continente* (vs. África como referencia) y *PIB per cápita*.  \n",
    "\n",
    "- **Efecto de continente (vs. África):**  \n",
    "  - *Américas*: **+16.06 años** (p < 0.001).  \n",
    "  - *Asia*: **+12.67 años** (p < 0.001).  \n",
    "  - *Europa*: **+15.23 años** (p < 0.001).  \n",
    "  - *Oceanía*: **+16.65 años** (p = 0.001).  \n",
    "  → **África tiene la menor esperanza de vida base (intercepto: 53.74 años)**.  \n",
    "\n",
    "- **PIB per cápita:**  \n",
    "  Cada **$1000 adicionales** en PIB aportan **+0.35 años** de esperanza de vida (β = 0.0003466, p < 0.001).  \n",
    "\n",
    "- **Ajuste del modelo:**  \n",
    "  - Explica **71% de la varianza** (1 - Residual Deviance/Null Deviance = 1 - 5878/20552).  \n",
    "  - **Todos los predictores son significativos**, pero el continente tiene mayor peso relativo que el PIB.  "
   ]
  }
 ],
 "metadata": {
  "kernelspec": {
   "display_name": "R",
   "language": "R",
   "name": "ir"
  },
  "language_info": {
   "codemirror_mode": "r",
   "file_extension": ".r",
   "mimetype": "text/x-r-source",
   "name": "R",
   "pygments_lexer": "r",
   "version": "4.4.2"
  }
 },
 "nbformat": 4,
 "nbformat_minor": 5
}
